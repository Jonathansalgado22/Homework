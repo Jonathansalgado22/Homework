{
 "cells": [
  {
   "attachments": {},
   "cell_type": "markdown",
   "metadata": {},
   "source": [
    "<!-- Headings -->\n",
    "\n",
    "# Week 2 Homework\n",
    "\n",
    "### 1. **What kind of language is <font color=blue>Python</font> considered?**\n",
    "\n",
    "* ##### <font color=blue>_**Python**</font> is considered a high level language._\n",
    "\n",
    "\n",
    "### 2. **What’s a natural language?**\n",
    "\n",
    "* #### _**Natural Language** are mostly spoken languages that form on their own._\n",
    "    * _Slang is a great example of a natural language._\n",
    "\n",
    "### 3. **Is <font color=blue>Python</font> a Natural or a Formal language?**\n",
    "\n",
    "* #### <font color=blue>_Python</font> would be considered a **Formal Language.**_\n",
    "\n",
    "### 4. **What are Algorithms?** \n",
    "\n",
    "* #### _An **Algorithm** is a series of steps to solve a problem at hand._ \n",
    "\n",
    " ### 5. **Why is <font color=blue>Python</font> considered to be a high-level language?**\n",
    "\n",
    " * #### <font color=blue>**_Python</font> is considered to be a high level language because:_**\n",
    "    * _It takes less time to write_\n",
    "    * _It is shorter and easier to read_\n",
    "    * _More likely to be correct and error free when we run them_\n",
    "\n",
    "### 6. **What is a Semantic error?**\n",
    "\n",
    "* ### _Code that is grammatically correct but doesn't make any sense. It does not produce the expected results._\n",
    "\n",
    "### 7. **What is the #1 rule of coding / debugging?**\n",
    "* ### _The #1 rule is <font color=green>**complexity**</font> is the enemy of <font color=red>**efficiency!**_</font>\n"
   ]
  },
  {
   "cell_type": "code",
   "execution_count": 5,
   "metadata": {},
   "outputs": [
    {
     "name": "stdout",
     "output_type": "stream",
     "text": [
      "Hello world!\n"
     ]
    }
   ],
   "source": [
    "print(\"Hello world!\")"
   ]
  }
 ],
 "metadata": {
  "kernelspec": {
   "display_name": "Python 3",
   "language": "python",
   "name": "python3"
  },
  "language_info": {
   "codemirror_mode": {
    "name": "ipython",
    "version": 3
   },
   "file_extension": ".py",
   "mimetype": "text/x-python",
   "name": "python",
   "nbconvert_exporter": "python",
   "pygments_lexer": "ipython3",
   "version": "3.11.1"
  },
  "orig_nbformat": 4,
  "vscode": {
   "interpreter": {
    "hash": "c261aea317cc0286b3b3261fbba9abdec21eaa57589985bb7a274bf54d6cc0a7"
   }
  }
 },
 "nbformat": 4,
 "nbformat_minor": 2
}
