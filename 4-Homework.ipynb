{
 "cells": [
  {
   "attachments": {},
   "cell_type": "markdown",
   "metadata": {},
   "source": [
    "# **Week 4 Homework**\n",
    "\n",
    "---\n",
    "\n",
    "### 1. **What does one need to do to use a module?**\n",
    "\n",
    "* #### _In order to use a module, we first need to import the respective module, into our code-base by using the import statement_\n",
    "\n",
    "\n",
    "### 2. **Name a Module (not the DateTime Nodule) we looked at and write a line or 2 of code as an example using this module.**\n",
    "\n",
    "\n",
    "\n"
   ]
  },
  {
   "cell_type": "code",
   "execution_count": 1,
   "metadata": {},
   "outputs": [
    {
     "name": "stdout",
     "output_type": "stream",
     "text": [
      "\n",
      "Random number is ... 16\n"
     ]
    }
   ],
   "source": [
    "# 2. The random module\n",
    "\n",
    "import random\n",
    "\n",
    "randomnumber = random.randrange(1,26)\n",
    "\n",
    "print(\"\\nRandom number is ...\", randomnumber)\n",
    "\n"
   ]
  },
  {
   "attachments": {},
   "cell_type": "markdown",
   "metadata": {},
   "source": [
    "\n",
    "### 3. **What is a benefit of using Exception handling?**\n",
    "\n",
    "* #### _When an error is raised in the try block, the except block will be executed. Without the try block, the program will crash. With this code device we can keep going past many errors_\n",
    "\n",
    "\n",
    "### 4. **NumPy arrays are like what Python data type?**\n",
    "\n",
    "* #### _NumPy arrays are like Python lists_\n",
    "\n",
    "\n",
    "### 5. **What is one of the main benefits of using NumPy arrays.**\n",
    "\n",
    "* #### _Numpy arrays occupy less memory as compared to list_\n",
    "\n",
    "\n",
    "### 6. **What is one of the main requirements about the 'dtype' of NumPy arrays?**\n",
    "\n",
    "* #### _Needs to be the same or similar kind of data type_\n",
    "\n",
    "### 7. **Of the 10 uses of NumPy, name 2.**\n",
    "\n",
    "* #### _Searching, sorting, and counting_\n",
    "\n",
    "* #### _Copying and viewing arrays_\n",
    "\n",
    "\n",
    "### 8. **Name one of the other libraries we'll use with NumPy?**\n",
    "\n",
    "* #### _Madpotlib_\n",
    "\n",
    "\n",
    "### 9. **What is the shape of NumPy arrays?**\n",
    "\n",
    "* #### _The shape is a tuple of non-negative integers that specify the dimentions, length and size of each array (3,2,4)_\n",
    "\n",
    "\n",
    "### 10. **What is a Tensor?**\n",
    "\n",
    "* #### _A tensor is an array with 3+ dimesions_\n",
    "\n",
    "\n",
    "### 11. **Name a reason why it's better using NumPy for Data Analysis than using a Python List?**\n",
    "\n",
    "* #### _NumPy arrays are fast compared to lists_\n",
    "\n",
    "\n",
    "### 12. **When creating an \"empty\" array, where do the elements come from?**\n",
    "\n",
    "* #### _The function empty creates an array whose intial content is random on the state of the memory_"
   ]
  },
  {
   "cell_type": "code",
   "execution_count": 7,
   "metadata": {},
   "outputs": [
    {
     "name": "stdout",
     "output_type": "stream",
     "text": [
      "\n",
      "Current Date and Time is ... 2023-02-18 08:41:51.910369\n",
      "\n",
      "Just the month is ... February\n"
     ]
    }
   ],
   "source": [
    "# Use the DateTime module to get Current Date and Time, and save it to a variable. Then extract just the Full month name from that variable.\n",
    "\n",
    "import datetime as dt\n",
    "\n",
    "\n",
    "j = dt.datetime.now()\n",
    "\n",
    "print(\"\\nCurrent Date and Time is ...\", j)\n",
    "\n",
    "import datetime \n",
    "\n",
    "j = datetime.datetime.now()\n",
    "\n",
    "print(\"\\nJust the month is ...\", j.strftime(\"%B\"))"
   ]
  },
  {
   "cell_type": "code",
   "execution_count": 31,
   "metadata": {},
   "outputs": [
    {
     "name": "stdout",
     "output_type": "stream",
     "text": [
      "Hi Jonathan Happy Saturday !\n",
      "Hi Jonathan Happy Sunday !\n"
     ]
    }
   ],
   "source": [
    "# Write a simple function that takes 2 parameters -- a first name and a day name.\n",
    "#set a default value for the day name of Sunday.\n",
    "#Have the function print out a greeting -- using the parameters -- that says something like \"Hi first-name! Happy day-name!\". Remember to use the variables in the greeting to replace first-name and day-name.\n",
    "#Invoke this function with 2 variables.\n",
    "#Invoke this function with 1 variable only.\n",
    "\n",
    "def message(fname, dayname = \"Sunday\"):\n",
    "  \n",
    "    print(\"Hi\", fname, \"Happy\", dayname, \"!\")\n",
    "\n",
    "message(\"Jonathan\", \"Saturday\") \n",
    "message(\"Jonathan\")\n",
    "\n"
   ]
  },
  {
   "cell_type": "code",
   "execution_count": 32,
   "metadata": {},
   "outputs": [
    {
     "name": "stdout",
     "output_type": "stream",
     "text": [
      "[[[ 1  2]\n",
      "  [ 3  4]\n",
      "  [ 5  6]]\n",
      "\n",
      " [[ 7  8]\n",
      "  [ 9 10]\n",
      "  [11 12]]]\n"
     ]
    }
   ],
   "source": [
    "#Import NumPy, use one of the NumPy methods and create an array with a shape of ... (2, 3, 2). You can use the reshape method -- .reshape()\n",
    "\n",
    "\n",
    "import numpy as np\n",
    "\n",
    "array = np.array([1,2,3,4,5,6,7,8,9,10,11,12])\n",
    "\n",
    "newarray = array.reshape(2, 3, 2)\n",
    "\n",
    "print(newarray)\n"
   ]
  },
  {
   "cell_type": "code",
   "execution_count": 34,
   "metadata": {},
   "outputs": [
    {
     "name": "stdout",
     "output_type": "stream",
     "text": [
      "Array j is ... [ 0.  4.  8. 12. 16. 20.]\n"
     ]
    }
   ],
   "source": [
    "# Use NumPy .linspace() to create an array with 6 linearly spaced values between 0 and 20\n",
    "\n",
    "import numpy as np\n",
    "\n",
    "j = np.linspace(0, 20, num = 6)\n",
    "print(\"Array j is ...\", j)"
   ]
  },
  {
   "cell_type": "code",
   "execution_count": 37,
   "metadata": {},
   "outputs": [
    {
     "name": "stdout",
     "output_type": "stream",
     "text": [
      "\n",
      "The mArray ...\n",
      " [ 0.  4.  8. 12. 16. 20.]\n"
     ]
    }
   ],
   "source": [
    "# Make a Deep Copy of the above array you created.\n",
    "\n",
    "import copy\n",
    "\n",
    "mArray = copy.deepcopy(j)\n",
    "\n",
    "\n",
    "print(\"\\nThe mArray ...\\n\", mArray)\n",
    "\n"
   ]
  },
  {
   "attachments": {},
   "cell_type": "markdown",
   "metadata": {},
   "source": [
    "### 13. **_What are 2 reasons we use NumPy arrays over Python Lists_**\n",
    "\n",
    "#### * _We use NumPy arrays over Python lists because it is convenient to work with numpy and NumPy arrays occupy less memory as compared to list_\n",
    "\n"
   ]
  }
 ],
 "metadata": {
  "kernelspec": {
   "display_name": "Python 3",
   "language": "python",
   "name": "python3"
  },
  "language_info": {
   "codemirror_mode": {
    "name": "ipython",
    "version": 3
   },
   "file_extension": ".py",
   "mimetype": "text/x-python",
   "name": "python",
   "nbconvert_exporter": "python",
   "pygments_lexer": "ipython3",
   "version": "3.11.1"
  },
  "orig_nbformat": 4,
  "vscode": {
   "interpreter": {
    "hash": "c261aea317cc0286b3b3261fbba9abdec21eaa57589985bb7a274bf54d6cc0a7"
   }
  }
 },
 "nbformat": 4,
 "nbformat_minor": 2
}
